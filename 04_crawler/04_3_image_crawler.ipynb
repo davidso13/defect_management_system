{
 "cells": [
  {
   "cell_type": "code",
   "execution_count": 1,
   "metadata": {},
   "outputs": [
    {
     "name": "stderr",
     "output_type": "stream",
     "text": [
      "usage: ipykernel_launcher.py [-h] -name PEOPLE\n",
      "ipykernel_launcher.py: error: the following arguments are required: -name/--people\n"
     ]
    },
    {
     "ename": "SystemExit",
     "evalue": "2",
     "output_type": "error",
     "traceback": [
      "An exception has occurred, use %tb to see the full traceback.\n",
      "\u001b[1;31mSystemExit\u001b[0m\u001b[1;31m:\u001b[0m 2\n"
     ]
    },
    {
     "name": "stderr",
     "output_type": "stream",
     "text": [
      "C:\\ProgramData\\Anaconda3\\lib\\site-packages\\IPython\\core\\interactiveshell.py:3275: UserWarning: To exit: use 'exit', 'quit', or Ctrl-D.\n",
      "  warn(\"To exit: use 'exit', 'quit', or Ctrl-D.\", stacklevel=1)\n"
     ]
    }
   ],
   "source": [
    "# 내장함수\n",
    "from urllib.request import urlopen\n",
    "# 명령행 파싱 모듈 argparse 모듈 사용\n",
    "import argparse\n",
    "# request => 요청하는거를 웹에 요청한 결과값을 얻어올수 있는 모듈\n",
    "import requests as req\n",
    "# 웹에 요청한 결과를 보내주는 모듈\n",
    "from bs4 import BeautifulSoup\n",
    "\n",
    "#argparse 모듈 에 ArgumentParse() 함수 사용하여 parser 생성\n",
    "parser = argparse.ArgumentParser()\n",
    "\n",
    "#  명령행 옵션을 지정하기 위해 사용합니다 명령행 옵션 인자는 -name으로 지정\n",
    "parser.add_argument(\"-name\", \"--people\", required=True)\n",
    "\n",
    "#parse에 add_argument()함수 사용해 args 인스턴스생성\n",
    "args = parser.parse_args()\n",
    "\n",
    "# 명령행에서 받은 인자값을 people에 값을 넘겨줌\n",
    "people = args.people\n",
    "\n",
    "def main():\n",
    "\n",
    "    #https://www.google.com/search?biw=767&bih=744&tbm=isch&sxsrf=ACYBGNSlHE5OIuMA1YoysmOD5m2E_48v0A%3A1575619578174&sa=1&ei=-gvqXcmGCraTr7wPmNi0sAI&q=construction+temporary+work&oq=construction+temporary+work&gs_l=img.3..0i19j0i8i30i19l2.1066.1066..1916...0.0..0.139.403.0j3......0....1..gws-wiz-img.......35i39j0i8i7i30.iNXkE_mTNY0&ved=0ahUKEwjJ64eqyKDmAhW2yYsBHRgsDSYQ4dUDCAc&uact=5\n",
    "    url_info = \"https://www.google.co.kr/search?\"\n",
    "\n",
    "    #params에 딕션을 넣어줌\n",
    "    params = {\n",
    "        #명령행에서 받은 인자값을 people로 넣어줌\n",
    "        \"q\" : people,\n",
    "        \"tbm\":\"isch\"\n",
    "    }\n",
    "    #url 요청 파싱값\n",
    "    html_object = req.get(url_info,params) #html_object html source 값\n",
    "\n",
    "    if html_object.status_code == 200:\n",
    "        #페이지 status_code 가 200 일때 2XX 는 성공을 이야기함\n",
    "        bs_object = BeautifulSoup(html_object.text,\"html.parser\")\n",
    "        #인스턴스 생성\n",
    "        img_data = bs_object.find_all(\"img\")\n",
    "        #인스턴스의 find_all 이라는 함수에 img 태그가 있으면 img_data에 넣어줌\n",
    "\n",
    "        for i in enumerate(img_data[1:]):\n",
    "            #딕셔너리를 순서대로 넣어줌\n",
    "            t = urlopen(i[1].attrs['src']).read()\n",
    "\n",
    "\n",
    "            filename = \"temp\"+str(i[0]+1)+'.jpg'\n",
    "\n",
    "\n",
    "            with open(filename,\"wb\") as f:\n",
    "\n",
    "\n",
    "                f.write(t)\n",
    "            print(\"Img Save Success\")\n",
    "\n",
    "\n",
    "if __name__==\"__main__\":\n",
    "    main()"
   ]
  },
  {
   "cell_type": "code",
   "execution_count": 2,
   "metadata": {},
   "outputs": [
    {
     "ename": "ModuleNotFoundError",
     "evalue": "No module named 'google_images_download'",
     "output_type": "error",
     "traceback": [
      "\u001b[1;31m---------------------------------------------------------------------------\u001b[0m",
      "\u001b[1;31mModuleNotFoundError\u001b[0m                       Traceback (most recent call last)",
      "\u001b[1;32m<ipython-input-2-f4845d66f3de>\u001b[0m in \u001b[0;36m<module>\u001b[1;34m\u001b[0m\n\u001b[1;32m----> 1\u001b[1;33m \u001b[1;32mfrom\u001b[0m \u001b[0mgoogle_images_download\u001b[0m \u001b[1;32mimport\u001b[0m \u001b[0mgoogle_images_download\u001b[0m\u001b[1;33m\u001b[0m\u001b[1;33m\u001b[0m\u001b[0m\n\u001b[0m\u001b[0;32m      2\u001b[0m \u001b[1;33m\u001b[0m\u001b[0m\n\u001b[0;32m      3\u001b[0m \u001b[1;32mimport\u001b[0m \u001b[0mssl\u001b[0m\u001b[1;33m\u001b[0m\u001b[1;33m\u001b[0m\u001b[0m\n\u001b[0;32m      4\u001b[0m \u001b[0mssl\u001b[0m\u001b[1;33m.\u001b[0m\u001b[0m_create_default_https_context\u001b[0m \u001b[1;33m=\u001b[0m \u001b[0mssl\u001b[0m\u001b[1;33m.\u001b[0m\u001b[0m_create_unverified_context\u001b[0m\u001b[1;33m\u001b[0m\u001b[1;33m\u001b[0m\u001b[0m\n\u001b[0;32m      5\u001b[0m \u001b[1;33m\u001b[0m\u001b[0m\n",
      "\u001b[1;31mModuleNotFoundError\u001b[0m: No module named 'google_images_download'"
     ]
    }
   ],
   "source": [
    "from google_images_download import google_images_download\n",
    "\n",
    "import ssl\n",
    "ssl._create_default_https_context = ssl._create_unverified_context\n",
    "\n",
    "\n",
    "def imageCrawling(keyword, dir):\n",
    "    response = google_images_download.googleimagesdownload()\n",
    "\n",
    "    arguments = {\"keywords\": keyword, \"limit\":100, \"print_urls\": True, \n",
    "    \"no_directory\":True, 'output_directory':dir}\n",
    "\n",
    "    paths = response.download(arguments)\n",
    "    print(paths)\n",
    "\n",
    "imageCrawling(\"construction work\", 'D:')"
   ]
  },
  {
   "cell_type": "code",
   "execution_count": null,
   "metadata": {},
   "outputs": [],
   "source": []
  }
 ],
 "metadata": {
  "kernelspec": {
   "display_name": "Python 3",
   "language": "python",
   "name": "python3"
  },
  "language_info": {
   "codemirror_mode": {
    "name": "ipython",
    "version": 3
   },
   "file_extension": ".py",
   "mimetype": "text/x-python",
   "name": "python",
   "nbconvert_exporter": "python",
   "pygments_lexer": "ipython3",
   "version": "3.7.1"
  }
 },
 "nbformat": 4,
 "nbformat_minor": 2
}
